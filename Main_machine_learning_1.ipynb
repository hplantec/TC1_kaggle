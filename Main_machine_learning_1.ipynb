{
 "cells": [
  {
   "cell_type": "code",
   "execution_count": 25,
   "metadata": {
    "collapsed": false
   },
   "outputs": [],
   "source": [
    "import matplotlib.pyplot as plt\n",
    "import seaborn as sns\n",
    "from matplotlib import cm as cm\n",
    "\n",
    "import pandas as pd\n",
    "import numpy as np\n",
    "\n",
    "from time import time, clock\n",
    "import itertools\n",
    "import re\n",
    "\n",
    "from sklearn.grid_search import GridSearchCV\n",
    "from sklearn.metrics import log_loss\n",
    "from sklearn.model_selection import KFold\n",
    "from sklearn.cross_validation import train_test_split\n",
    "from sklearn.decomposition import PCA\n",
    "from sklearn.feature_selection import RFE\n",
    "\n",
    "from sklearn.lda import LDA\n",
    "from sklearn.naive_bayes import GaussianNB\n",
    "from sklearn.neural_network import MLPClassifier\n",
    "from sklearn.linear_model import SGDClassifier, LogisticRegression\n",
    "from sklearn.ensemble import RandomForestClassifier, AdaBoostClassifier, RandomForestRegressor, GradientBoostingClassifier\n",
    "from sklearn.tree import DecisionTreeClassifier\n",
    "from xgboost import XGBClassifier\n",
    "from sklearn.calibration import CalibratedClassifierCV\n",
    " \n",
    "%matplotlib inline"
   ]
  },
  {
   "cell_type": "markdown",
   "metadata": {},
   "source": [
    "## Data loading and preprocessing"
   ]
  },
  {
   "cell_type": "code",
   "execution_count": 2,
   "metadata": {
    "collapsed": false
   },
   "outputs": [
    {
     "name": "stdout",
     "output_type": "stream",
     "text": [
      "(61878, 95)\n"
     ]
    },
    {
     "data": {
      "text/html": [
       "<div>\n",
       "<table border=\"1\" class=\"dataframe\">\n",
       "  <thead>\n",
       "    <tr style=\"text-align: right;\">\n",
       "      <th></th>\n",
       "      <th>id</th>\n",
       "      <th>feat_1</th>\n",
       "      <th>feat_2</th>\n",
       "      <th>feat_3</th>\n",
       "      <th>feat_4</th>\n",
       "      <th>feat_5</th>\n",
       "      <th>feat_6</th>\n",
       "      <th>feat_7</th>\n",
       "      <th>feat_8</th>\n",
       "      <th>feat_9</th>\n",
       "      <th>...</th>\n",
       "      <th>feat_85</th>\n",
       "      <th>feat_86</th>\n",
       "      <th>feat_87</th>\n",
       "      <th>feat_88</th>\n",
       "      <th>feat_89</th>\n",
       "      <th>feat_90</th>\n",
       "      <th>feat_91</th>\n",
       "      <th>feat_92</th>\n",
       "      <th>feat_93</th>\n",
       "      <th>target</th>\n",
       "    </tr>\n",
       "  </thead>\n",
       "  <tbody>\n",
       "    <tr>\n",
       "      <th>0</th>\n",
       "      <td>1</td>\n",
       "      <td>1</td>\n",
       "      <td>0</td>\n",
       "      <td>0</td>\n",
       "      <td>0</td>\n",
       "      <td>0</td>\n",
       "      <td>0</td>\n",
       "      <td>0</td>\n",
       "      <td>0</td>\n",
       "      <td>0</td>\n",
       "      <td>...</td>\n",
       "      <td>1</td>\n",
       "      <td>0</td>\n",
       "      <td>0</td>\n",
       "      <td>0</td>\n",
       "      <td>0</td>\n",
       "      <td>0</td>\n",
       "      <td>0</td>\n",
       "      <td>0</td>\n",
       "      <td>0</td>\n",
       "      <td>1</td>\n",
       "    </tr>\n",
       "    <tr>\n",
       "      <th>1</th>\n",
       "      <td>2</td>\n",
       "      <td>0</td>\n",
       "      <td>0</td>\n",
       "      <td>0</td>\n",
       "      <td>0</td>\n",
       "      <td>0</td>\n",
       "      <td>0</td>\n",
       "      <td>0</td>\n",
       "      <td>1</td>\n",
       "      <td>0</td>\n",
       "      <td>...</td>\n",
       "      <td>0</td>\n",
       "      <td>0</td>\n",
       "      <td>0</td>\n",
       "      <td>0</td>\n",
       "      <td>0</td>\n",
       "      <td>0</td>\n",
       "      <td>0</td>\n",
       "      <td>0</td>\n",
       "      <td>0</td>\n",
       "      <td>1</td>\n",
       "    </tr>\n",
       "    <tr>\n",
       "      <th>2</th>\n",
       "      <td>3</td>\n",
       "      <td>0</td>\n",
       "      <td>0</td>\n",
       "      <td>0</td>\n",
       "      <td>0</td>\n",
       "      <td>0</td>\n",
       "      <td>0</td>\n",
       "      <td>0</td>\n",
       "      <td>1</td>\n",
       "      <td>0</td>\n",
       "      <td>...</td>\n",
       "      <td>0</td>\n",
       "      <td>0</td>\n",
       "      <td>0</td>\n",
       "      <td>0</td>\n",
       "      <td>0</td>\n",
       "      <td>0</td>\n",
       "      <td>0</td>\n",
       "      <td>0</td>\n",
       "      <td>0</td>\n",
       "      <td>1</td>\n",
       "    </tr>\n",
       "    <tr>\n",
       "      <th>3</th>\n",
       "      <td>4</td>\n",
       "      <td>1</td>\n",
       "      <td>0</td>\n",
       "      <td>0</td>\n",
       "      <td>1</td>\n",
       "      <td>6</td>\n",
       "      <td>1</td>\n",
       "      <td>5</td>\n",
       "      <td>0</td>\n",
       "      <td>0</td>\n",
       "      <td>...</td>\n",
       "      <td>0</td>\n",
       "      <td>1</td>\n",
       "      <td>2</td>\n",
       "      <td>0</td>\n",
       "      <td>0</td>\n",
       "      <td>0</td>\n",
       "      <td>0</td>\n",
       "      <td>0</td>\n",
       "      <td>0</td>\n",
       "      <td>1</td>\n",
       "    </tr>\n",
       "    <tr>\n",
       "      <th>4</th>\n",
       "      <td>5</td>\n",
       "      <td>0</td>\n",
       "      <td>0</td>\n",
       "      <td>0</td>\n",
       "      <td>0</td>\n",
       "      <td>0</td>\n",
       "      <td>0</td>\n",
       "      <td>0</td>\n",
       "      <td>0</td>\n",
       "      <td>0</td>\n",
       "      <td>...</td>\n",
       "      <td>1</td>\n",
       "      <td>0</td>\n",
       "      <td>0</td>\n",
       "      <td>0</td>\n",
       "      <td>0</td>\n",
       "      <td>1</td>\n",
       "      <td>0</td>\n",
       "      <td>0</td>\n",
       "      <td>0</td>\n",
       "      <td>1</td>\n",
       "    </tr>\n",
       "  </tbody>\n",
       "</table>\n",
       "<p>5 rows × 95 columns</p>\n",
       "</div>"
      ],
      "text/plain": [
       "   id  feat_1  feat_2  feat_3  feat_4  feat_5  feat_6  feat_7  feat_8  feat_9  \\\n",
       "0   1       1       0       0       0       0       0       0       0       0   \n",
       "1   2       0       0       0       0       0       0       0       1       0   \n",
       "2   3       0       0       0       0       0       0       0       1       0   \n",
       "3   4       1       0       0       1       6       1       5       0       0   \n",
       "4   5       0       0       0       0       0       0       0       0       0   \n",
       "\n",
       "    ...    feat_85  feat_86  feat_87  feat_88  feat_89  feat_90  feat_91  \\\n",
       "0   ...          1        0        0        0        0        0        0   \n",
       "1   ...          0        0        0        0        0        0        0   \n",
       "2   ...          0        0        0        0        0        0        0   \n",
       "3   ...          0        1        2        0        0        0        0   \n",
       "4   ...          1        0        0        0        0        1        0   \n",
       "\n",
       "   feat_92  feat_93  target  \n",
       "0        0        0       1  \n",
       "1        0        0       1  \n",
       "2        0        0       1  \n",
       "3        0        0       1  \n",
       "4        0        0       1  \n",
       "\n",
       "[5 rows x 95 columns]"
      ]
     },
     "execution_count": 2,
     "metadata": {},
     "output_type": "execute_result"
    }
   ],
   "source": [
    "train = pd.read_csv(\"data/train.csv\")\n",
    "print(train.shape)\n",
    "\n",
    "#Reformattons la colonne target pour avoir des entiers\n",
    "train.target = train.target.str.replace('Class_','').astype(int)\n",
    "train.head()"
   ]
  },
  {
   "cell_type": "code",
   "execution_count": 3,
   "metadata": {
    "collapsed": false
   },
   "outputs": [],
   "source": [
    "X = train.drop(['id','target'],axis = 1)\n",
    "y = train.target"
   ]
  },
  {
   "cell_type": "code",
   "execution_count": 4,
   "metadata": {
    "collapsed": false
   },
   "outputs": [
    {
     "name": "stdout",
     "output_type": "stream",
     "text": [
      "(144368, 94)\n"
     ]
    },
    {
     "data": {
      "text/html": [
       "<div>\n",
       "<table border=\"1\" class=\"dataframe\">\n",
       "  <thead>\n",
       "    <tr style=\"text-align: right;\">\n",
       "      <th></th>\n",
       "      <th>id</th>\n",
       "      <th>feat_1</th>\n",
       "      <th>feat_2</th>\n",
       "      <th>feat_3</th>\n",
       "      <th>feat_4</th>\n",
       "      <th>feat_5</th>\n",
       "      <th>feat_6</th>\n",
       "      <th>feat_7</th>\n",
       "      <th>feat_8</th>\n",
       "      <th>feat_9</th>\n",
       "      <th>...</th>\n",
       "      <th>feat_84</th>\n",
       "      <th>feat_85</th>\n",
       "      <th>feat_86</th>\n",
       "      <th>feat_87</th>\n",
       "      <th>feat_88</th>\n",
       "      <th>feat_89</th>\n",
       "      <th>feat_90</th>\n",
       "      <th>feat_91</th>\n",
       "      <th>feat_92</th>\n",
       "      <th>feat_93</th>\n",
       "    </tr>\n",
       "  </thead>\n",
       "  <tbody>\n",
       "    <tr>\n",
       "      <th>0</th>\n",
       "      <td>1</td>\n",
       "      <td>0</td>\n",
       "      <td>0</td>\n",
       "      <td>0</td>\n",
       "      <td>0</td>\n",
       "      <td>0</td>\n",
       "      <td>0</td>\n",
       "      <td>0</td>\n",
       "      <td>0</td>\n",
       "      <td>0</td>\n",
       "      <td>...</td>\n",
       "      <td>0</td>\n",
       "      <td>0</td>\n",
       "      <td>11</td>\n",
       "      <td>1</td>\n",
       "      <td>20</td>\n",
       "      <td>0</td>\n",
       "      <td>0</td>\n",
       "      <td>0</td>\n",
       "      <td>0</td>\n",
       "      <td>0</td>\n",
       "    </tr>\n",
       "    <tr>\n",
       "      <th>1</th>\n",
       "      <td>2</td>\n",
       "      <td>2</td>\n",
       "      <td>2</td>\n",
       "      <td>14</td>\n",
       "      <td>16</td>\n",
       "      <td>0</td>\n",
       "      <td>0</td>\n",
       "      <td>0</td>\n",
       "      <td>0</td>\n",
       "      <td>0</td>\n",
       "      <td>...</td>\n",
       "      <td>0</td>\n",
       "      <td>0</td>\n",
       "      <td>0</td>\n",
       "      <td>0</td>\n",
       "      <td>0</td>\n",
       "      <td>4</td>\n",
       "      <td>0</td>\n",
       "      <td>0</td>\n",
       "      <td>2</td>\n",
       "      <td>0</td>\n",
       "    </tr>\n",
       "    <tr>\n",
       "      <th>2</th>\n",
       "      <td>3</td>\n",
       "      <td>0</td>\n",
       "      <td>1</td>\n",
       "      <td>12</td>\n",
       "      <td>1</td>\n",
       "      <td>0</td>\n",
       "      <td>0</td>\n",
       "      <td>0</td>\n",
       "      <td>0</td>\n",
       "      <td>0</td>\n",
       "      <td>...</td>\n",
       "      <td>0</td>\n",
       "      <td>0</td>\n",
       "      <td>0</td>\n",
       "      <td>0</td>\n",
       "      <td>2</td>\n",
       "      <td>0</td>\n",
       "      <td>0</td>\n",
       "      <td>0</td>\n",
       "      <td>0</td>\n",
       "      <td>1</td>\n",
       "    </tr>\n",
       "    <tr>\n",
       "      <th>3</th>\n",
       "      <td>4</td>\n",
       "      <td>0</td>\n",
       "      <td>0</td>\n",
       "      <td>0</td>\n",
       "      <td>1</td>\n",
       "      <td>0</td>\n",
       "      <td>0</td>\n",
       "      <td>0</td>\n",
       "      <td>0</td>\n",
       "      <td>0</td>\n",
       "      <td>...</td>\n",
       "      <td>0</td>\n",
       "      <td>3</td>\n",
       "      <td>1</td>\n",
       "      <td>0</td>\n",
       "      <td>0</td>\n",
       "      <td>0</td>\n",
       "      <td>0</td>\n",
       "      <td>0</td>\n",
       "      <td>0</td>\n",
       "      <td>0</td>\n",
       "    </tr>\n",
       "    <tr>\n",
       "      <th>4</th>\n",
       "      <td>5</td>\n",
       "      <td>1</td>\n",
       "      <td>0</td>\n",
       "      <td>0</td>\n",
       "      <td>1</td>\n",
       "      <td>0</td>\n",
       "      <td>0</td>\n",
       "      <td>1</td>\n",
       "      <td>2</td>\n",
       "      <td>0</td>\n",
       "      <td>...</td>\n",
       "      <td>0</td>\n",
       "      <td>0</td>\n",
       "      <td>0</td>\n",
       "      <td>0</td>\n",
       "      <td>0</td>\n",
       "      <td>0</td>\n",
       "      <td>0</td>\n",
       "      <td>9</td>\n",
       "      <td>0</td>\n",
       "      <td>0</td>\n",
       "    </tr>\n",
       "  </tbody>\n",
       "</table>\n",
       "<p>5 rows × 94 columns</p>\n",
       "</div>"
      ],
      "text/plain": [
       "   id  feat_1  feat_2  feat_3  feat_4  feat_5  feat_6  feat_7  feat_8  feat_9  \\\n",
       "0   1       0       0       0       0       0       0       0       0       0   \n",
       "1   2       2       2      14      16       0       0       0       0       0   \n",
       "2   3       0       1      12       1       0       0       0       0       0   \n",
       "3   4       0       0       0       1       0       0       0       0       0   \n",
       "4   5       1       0       0       1       0       0       1       2       0   \n",
       "\n",
       "    ...     feat_84  feat_85  feat_86  feat_87  feat_88  feat_89  feat_90  \\\n",
       "0   ...           0        0       11        1       20        0        0   \n",
       "1   ...           0        0        0        0        0        4        0   \n",
       "2   ...           0        0        0        0        2        0        0   \n",
       "3   ...           0        3        1        0        0        0        0   \n",
       "4   ...           0        0        0        0        0        0        0   \n",
       "\n",
       "   feat_91  feat_92  feat_93  \n",
       "0        0        0        0  \n",
       "1        0        2        0  \n",
       "2        0        0        1  \n",
       "3        0        0        0  \n",
       "4        9        0        0  \n",
       "\n",
       "[5 rows x 94 columns]"
      ]
     },
     "execution_count": 4,
     "metadata": {},
     "output_type": "execute_result"
    }
   ],
   "source": [
    "X_off_test = pd.read_csv(\"data/test.csv\")\n",
    "print(X_off_test.shape)\n",
    "X_off_test.head()"
   ]
  },
  {
   "cell_type": "code",
   "execution_count": 5,
   "metadata": {
    "collapsed": false
   },
   "outputs": [
    {
     "name": "stdout",
     "output_type": "stream",
     "text": [
      "(144368, 10)\n"
     ]
    },
    {
     "data": {
      "text/html": [
       "<div>\n",
       "<table border=\"1\" class=\"dataframe\">\n",
       "  <thead>\n",
       "    <tr style=\"text-align: right;\">\n",
       "      <th></th>\n",
       "      <th>id</th>\n",
       "      <th>Class_1</th>\n",
       "      <th>Class_2</th>\n",
       "      <th>Class_3</th>\n",
       "      <th>Class_4</th>\n",
       "      <th>Class_5</th>\n",
       "      <th>Class_6</th>\n",
       "      <th>Class_7</th>\n",
       "      <th>Class_8</th>\n",
       "      <th>Class_9</th>\n",
       "    </tr>\n",
       "  </thead>\n",
       "  <tbody>\n",
       "    <tr>\n",
       "      <th>0</th>\n",
       "      <td>1</td>\n",
       "      <td>1</td>\n",
       "      <td>0</td>\n",
       "      <td>0</td>\n",
       "      <td>0</td>\n",
       "      <td>0</td>\n",
       "      <td>0</td>\n",
       "      <td>0</td>\n",
       "      <td>0</td>\n",
       "      <td>0</td>\n",
       "    </tr>\n",
       "    <tr>\n",
       "      <th>1</th>\n",
       "      <td>2</td>\n",
       "      <td>1</td>\n",
       "      <td>0</td>\n",
       "      <td>0</td>\n",
       "      <td>0</td>\n",
       "      <td>0</td>\n",
       "      <td>0</td>\n",
       "      <td>0</td>\n",
       "      <td>0</td>\n",
       "      <td>0</td>\n",
       "    </tr>\n",
       "    <tr>\n",
       "      <th>2</th>\n",
       "      <td>3</td>\n",
       "      <td>1</td>\n",
       "      <td>0</td>\n",
       "      <td>0</td>\n",
       "      <td>0</td>\n",
       "      <td>0</td>\n",
       "      <td>0</td>\n",
       "      <td>0</td>\n",
       "      <td>0</td>\n",
       "      <td>0</td>\n",
       "    </tr>\n",
       "    <tr>\n",
       "      <th>3</th>\n",
       "      <td>4</td>\n",
       "      <td>1</td>\n",
       "      <td>0</td>\n",
       "      <td>0</td>\n",
       "      <td>0</td>\n",
       "      <td>0</td>\n",
       "      <td>0</td>\n",
       "      <td>0</td>\n",
       "      <td>0</td>\n",
       "      <td>0</td>\n",
       "    </tr>\n",
       "    <tr>\n",
       "      <th>4</th>\n",
       "      <td>5</td>\n",
       "      <td>1</td>\n",
       "      <td>0</td>\n",
       "      <td>0</td>\n",
       "      <td>0</td>\n",
       "      <td>0</td>\n",
       "      <td>0</td>\n",
       "      <td>0</td>\n",
       "      <td>0</td>\n",
       "      <td>0</td>\n",
       "    </tr>\n",
       "  </tbody>\n",
       "</table>\n",
       "</div>"
      ],
      "text/plain": [
       "   id  Class_1  Class_2  Class_3  Class_4  Class_5  Class_6  Class_7  Class_8  \\\n",
       "0   1        1        0        0        0        0        0        0        0   \n",
       "1   2        1        0        0        0        0        0        0        0   \n",
       "2   3        1        0        0        0        0        0        0        0   \n",
       "3   4        1        0        0        0        0        0        0        0   \n",
       "4   5        1        0        0        0        0        0        0        0   \n",
       "\n",
       "   Class_9  \n",
       "0        0  \n",
       "1        0  \n",
       "2        0  \n",
       "3        0  \n",
       "4        0  "
      ]
     },
     "execution_count": 5,
     "metadata": {},
     "output_type": "execute_result"
    }
   ],
   "source": [
    "submit = pd.read_csv(\"data/sampleSubmission.csv\")\n",
    "print(submit.shape)\n",
    "submit.head()"
   ]
  },
  {
   "cell_type": "markdown",
   "metadata": {},
   "source": [
    "# Crossval"
   ]
  },
  {
   "cell_type": "code",
   "execution_count": 6,
   "metadata": {
    "collapsed": true
   },
   "outputs": [],
   "source": [
    "#split our dataset into train/validation/test sets\n",
    "\n",
    "X_train, X_test, y_train, y_test = train_test_split(X,y, test_size = 0.2, random_state=42)"
   ]
  },
  {
   "cell_type": "markdown",
   "metadata": {},
   "source": [
    "## The baseline"
   ]
  },
  {
   "cell_type": "code",
   "execution_count": 27,
   "metadata": {
    "collapsed": false
   },
   "outputs": [
    {
     "name": "stdout",
     "output_type": "stream",
     "text": [
      "Without calibration\n",
      "Mean log_loss : 9.9073\n",
      "\n",
      "With calibration\n",
      "Mean log_loss : 0.9139\n"
     ]
    }
   ],
   "source": [
    "tree = DecisionTreeClassifier()\n",
    "tree.fit(X_train,y_train)\n",
    "\n",
    "y_probas = tree.predict_proba(X_test)\n",
    "print(\"Without calibration\")\n",
    "print(\"Mean log_loss : %.4f\" %log_loss(y_test,y_probas))\n",
    "\n",
    "cal_tree = CalibratedClassifierCV(base_estimator = DecisionTreeClassifier(),method = 'isotonic')\n",
    "cal_tree.fit(X_train,y_train)\n",
    "\n",
    "y_probas = cal_tree.predict_proba(X_test)\n",
    "print(\"\\nWith calibration\")\n",
    "print(\"Mean log_loss : %.4f\" %log_loss(y_test,y_probas))"
   ]
  },
  {
   "cell_type": "markdown",
   "metadata": {},
   "source": [
    "## Classifiers comparison"
   ]
  },
  {
   "cell_type": "code",
   "execution_count": 12,
   "metadata": {
    "collapsed": false
   },
   "outputs": [
    {
     "name": "stdout",
     "output_type": "stream",
     "text": [
      "Without calibration\n",
      "Mean log_loss : 1.4943\n",
      "\n",
      "With calibration\n",
      "Mean log_loss : 0.5870\n"
     ]
    }
   ],
   "source": [
    "rf = RandomForestClassifier(n_jobs=-1)\n",
    "rf.fit(X_train,y_train)\n",
    "\n",
    "y_probas = rf.predict_proba(X_test)\n",
    "print(\"Without calibration\")\n",
    "print(\"Mean log_loss : %.4f\" %log_loss(y_test,y_probas))\n",
    "\n",
    "cal_rf = CalibratedClassifierCV(base_estimator = RandomForestClassifier(n_jobs=-1),method = 'isotonic')\n",
    "cal_rf.fit(X_train,y_train)\n",
    "\n",
    "y_probas = cal_rf.predict_proba(X_test)\n",
    "print(\"\\nWith calibration\")\n",
    "print(\"Mean log_loss : %.4f\" %log_loss(y_test,y_probas))"
   ]
  },
  {
   "cell_type": "code",
   "execution_count": 15,
   "metadata": {
    "collapsed": false
   },
   "outputs": [
    {
     "name": "stdout",
     "output_type": "stream",
     "text": [
      "Without calibration\n",
      "Mean log_loss : 0.6483\n",
      "\n",
      "With calibration\n",
      "Mean log_loss : 0.6076\n"
     ]
    }
   ],
   "source": [
    "xgb = XGBClassifier()\n",
    "xgb.fit(X_train,y_train)\n",
    "\n",
    "y_probas = xgb.predict_proba(X_test)\n",
    "print(\"Without calibration\")\n",
    "print(\"Mean log_loss : %.4f\" %log_loss(y_test,y_probas))\n",
    "\n",
    "cal_xgb = CalibratedClassifierCV(base_estimator = XGBClassifier(),method = 'isotonic')\n",
    "cal_xgb.fit(X_train,y_train)\n",
    "\n",
    "y_probas = cal_xgb.predict_proba(X_test)\n",
    "print(\"\\nWith calibration\")\n",
    "print(\"Mean log_loss : %.4f\" %log_loss(y_test,y_probas))"
   ]
  },
  {
   "cell_type": "code",
   "execution_count": 16,
   "metadata": {
    "collapsed": false
   },
   "outputs": [
    {
     "name": "stdout",
     "output_type": "stream",
     "text": [
      "Without calibration\n",
      "Mean log_loss : 2.0262\n",
      "\n",
      "With calibration\n",
      "Mean log_loss : 1.1420\n"
     ]
    }
   ],
   "source": [
    "ada = AdaBoostClassifier(random_state = 42)\n",
    "ada.fit(X_train,y_train)\n",
    "\n",
    "y_probas = ada.predict_proba(X_test)\n",
    "print(\"Without calibration\")\n",
    "print(\"Mean log_loss : %.4f\" %log_loss(y_test,y_probas))\n",
    "\n",
    "cal_ada = CalibratedClassifierCV(base_estimator = AdaBoostClassifier(random_state = 42),method = 'isotonic')\n",
    "cal_ada.fit(X_train,y_train)\n",
    "\n",
    "y_probas = cal_ada.predict_proba(X_test)\n",
    "print(\"\\nWith calibration\")\n",
    "print(\"Mean log_loss : %.4f\" %log_loss(y_test,y_probas))"
   ]
  },
  {
   "cell_type": "code",
   "execution_count": 17,
   "metadata": {
    "collapsed": false
   },
   "outputs": [
    {
     "name": "stdout",
     "output_type": "stream",
     "text": [
      "Without calibration\n",
      "Mean log_loss : 0.6576\n",
      "\n",
      "With calibration\n",
      "Mean log_loss : 0.5209\n"
     ]
    }
   ],
   "source": [
    "mlp = MLPClassifier(random_state = 42)\n",
    "mlp.fit(X_train,y_train)\n",
    "\n",
    "y_probas = mlp.predict_proba(X_test)\n",
    "print(\"Without calibration\")\n",
    "print(\"Mean log_loss : %.4f\" %log_loss(y_test,y_probas))\n",
    "\n",
    "cal_mlp = CalibratedClassifierCV(base_estimator = MLPClassifier(random_state = 42),method = 'isotonic')\n",
    "cal_mlp.fit(X_train,y_train)\n",
    "\n",
    "y_probas = cal_mlp.predict_proba(X_test)\n",
    "print(\"\\nWith calibration\")\n",
    "print(\"Mean log_loss : %.4f\" %log_loss(y_test,y_probas))"
   ]
  },
  {
   "cell_type": "code",
   "execution_count": 18,
   "metadata": {
    "collapsed": false
   },
   "outputs": [
    {
     "name": "stdout",
     "output_type": "stream",
     "text": [
      "Without calibration\n",
      "Mean log_loss : 0.9215\n"
     ]
    },
    {
     "name": "stderr",
     "output_type": "stream",
     "text": [
      "C:\\Program Files\\Python 3.4\\lib\\site-packages\\sklearn\\discriminant_analysis.py:455: UserWarning: The priors do not sum to 1. Renormalizing\n",
      "  UserWarning)\n"
     ]
    },
    {
     "name": "stdout",
     "output_type": "stream",
     "text": [
      "\n",
      "With calibration\n",
      "Mean log_loss : 0.7603\n"
     ]
    }
   ],
   "source": [
    "lda = LDA()\n",
    "lda.fit(X_train,y_train)\n",
    "\n",
    "y_probas = lda.predict_proba(X_test)\n",
    "print(\"Without calibration\")\n",
    "print(\"Mean log_loss : %.4f\" %log_loss(y_test,y_probas))\n",
    "\n",
    "cal_lda = CalibratedClassifierCV(base_estimator = LDA(),method = 'isotonic')\n",
    "cal_lda.fit(X_train,y_train)\n",
    "\n",
    "y_probas = cal_lda.predict_proba(X_test)\n",
    "print(\"\\nWith calibration\")\n",
    "print(\"Mean log_loss : %.4f\" %log_loss(y_test,y_probas))"
   ]
  },
  {
   "cell_type": "code",
   "execution_count": 19,
   "metadata": {
    "collapsed": false
   },
   "outputs": [
    {
     "name": "stdout",
     "output_type": "stream",
     "text": [
      "Without calibration\n",
      "Mean log_loss : 7.2519\n",
      "\n",
      "With calibration\n",
      "Mean log_loss : 0.8883\n"
     ]
    },
    {
     "name": "stderr",
     "output_type": "stream",
     "text": [
      "C:\\Program Files\\Python 3.4\\lib\\site-packages\\sklearn\\calibration.py:379: RuntimeWarning: invalid value encountered in true_divide\n",
      "  proba /= np.sum(proba, axis=1)[:, np.newaxis]\n"
     ]
    }
   ],
   "source": [
    "naive = GaussianNB()\n",
    "naive.fit(X_train,y_train)\n",
    "\n",
    "y_probas = naive.predict_proba(X_test)\n",
    "print(\"Without calibration\")\n",
    "print(\"Mean log_loss : %.4f\" %log_loss(y_test,y_probas))\n",
    "\n",
    "cal_naive = CalibratedClassifierCV(base_estimator = GaussianNB(),method = 'isotonic')\n",
    "cal_naive.fit(X_train,y_train)\n",
    "\n",
    "y_probas = cal_naive.predict_proba(X_test)\n",
    "print(\"\\nWith calibration\")\n",
    "print(\"Mean log_loss : %.4f\" %log_loss(y_test,y_probas))"
   ]
  },
  {
   "cell_type": "code",
   "execution_count": 21,
   "metadata": {
    "collapsed": false
   },
   "outputs": [
    {
     "name": "stderr",
     "output_type": "stream",
     "text": [
      "C:\\Program Files\\Python 3.4\\lib\\site-packages\\sklearn\\linear_model\\base.py:352: RuntimeWarning: overflow encountered in exp\n",
      "  np.exp(prob, prob)\n"
     ]
    },
    {
     "name": "stdout",
     "output_type": "stream",
     "text": [
      "Without calibration\n",
      "Mean log_loss : 2.3360\n",
      "\n",
      "With calibration\n",
      "Mean log_loss : 0.8086\n"
     ]
    }
   ],
   "source": [
    "sgd = SGDClassifier(loss = 'log')\n",
    "sgd.fit(X_train,y_train)\n",
    "\n",
    "y_probas = sgd.predict_proba(X_test)\n",
    "print(\"Without calibration\")\n",
    "print(\"Mean log_loss : %.4f\" %log_loss(y_test,y_probas))\n",
    "\n",
    "cal_sgd = CalibratedClassifierCV(base_estimator = SGDClassifier(loss = 'log'),method = 'isotonic')\n",
    "cal_sgd.fit(X_train,y_train)\n",
    "\n",
    "y_probas = cal_sgd.predict_proba(X_test)\n",
    "print(\"\\nWith calibration\")\n",
    "print(\"Mean log_loss : %.4f\" %log_loss(y_test,y_probas))"
   ]
  },
  {
   "cell_type": "code",
   "execution_count": 22,
   "metadata": {
    "collapsed": false
   },
   "outputs": [
    {
     "name": "stdout",
     "output_type": "stream",
     "text": [
      "Without calibration\n",
      "Mean log_loss : 0.5996\n",
      "\n",
      "With calibration\n",
      "Mean log_loss : 0.6614\n"
     ]
    }
   ],
   "source": [
    "boost = GradientBoostingClassifier(random_state = 42)\n",
    "boost.fit(X_train,y_train)\n",
    "\n",
    "y_probas = boost.predict_proba(X_test)\n",
    "print(\"Without calibration\")\n",
    "print(\"Mean log_loss : %.4f\" %log_loss(y_test,y_probas))\n",
    "\n",
    "cal_boost = CalibratedClassifierCV(base_estimator = GradientBoostingClassifier(random_state = 42),method = 'isotonic')\n",
    "cal_boost.fit(X_train,y_train)\n",
    "\n",
    "y_probas = cal_boost.predict_proba(X_test)\n",
    "print(\"\\nWith calibration\")\n",
    "print(\"Mean log_loss : %.4f\" %log_loss(y_test,y_probas))"
   ]
  },
  {
   "cell_type": "code",
   "execution_count": 26,
   "metadata": {
    "collapsed": false
   },
   "outputs": [
    {
     "name": "stdout",
     "output_type": "stream",
     "text": [
      "Without calibration\n",
      "Mean log_loss : 0.6700\n",
      "\n",
      "With calibration\n",
      "Mean log_loss : 0.6614\n"
     ]
    }
   ],
   "source": [
    "logreg = LogisticRegression(random_state = 42)\n",
    "logreg.fit(X_train,y_train)\n",
    "\n",
    "y_probas = logreg.predict_proba(X_test)\n",
    "print(\"Without calibration\")\n",
    "print(\"Mean log_loss : %.4f\" %log_loss(y_test,y_probas))\n",
    "\n",
    "cal_logreg = CalibratedClassifierCV(base_estimator = GradientBoostingClassifier(random_state = 42),method = 'isotonic')\n",
    "cal_logreg.fit(X_train,y_train)\n",
    "\n",
    "y_probas = cal_logreg.predict_proba(X_test)\n",
    "print(\"\\nWith calibration\")\n",
    "print(\"Mean log_loss : %.4f\" %log_loss(y_test,y_probas))"
   ]
  },
  {
   "cell_type": "markdown",
   "metadata": {},
   "source": [
    "## Some HP search"
   ]
  },
  {
   "cell_type": "code",
   "execution_count": null,
   "metadata": {
    "collapsed": false
   },
   "outputs": [
    {
     "name": "stdout",
     "output_type": "stream",
     "text": [
      "Fitting 5 folds for each of 25 candidates, totalling 125 fits\n"
     ]
    },
    {
     "name": "stderr",
     "output_type": "stream",
     "text": [
      "[Parallel(n_jobs=-1)]: Done  34 tasks      | elapsed:  4.9min\n"
     ]
    }
   ],
   "source": [
    "\"\"\" AdaBoost Classifier \"\"\"\n",
    "\n",
    "ada_param_grid = {'n_estimators': [50, 100, 150, 300, 600],\n",
    "                  'learning_rate': [0.1, 0.2, 0.5, 1., 1.5],\n",
    "                 }\n",
    "\n",
    "ada_grid_search = GridSearchCV(estimator = AdaBoostClassifier(random_state=42),\n",
    "                               param_grid = ada_param_grid,\n",
    "                               cv=5, n_jobs=-1,\n",
    "                               verbose = 1,\n",
    "                               scoring = 'neg_log_loss')\n",
    "start = time()\n",
    "ada_grid_search.fit(X_train, y_train)\n",
    "\n",
    "print(\"GridSearchCV took %.2f seconds for %d candidate parameter settings.\"\n",
    "      % (time() - start, len(ada_grid_search.grid_scores_)))\n",
    "print(ada_grid_search.best_params_)\n",
    "\n",
    "\"\"\"Prediction with those best parameters\"\"\"\n",
    "\n",
    "best_ada_clf = AdaBoostClassifier(n_estimators=600, learning_rate=0.5, random_state=42)\n",
    "best_ada_clf.fit(X_train, y_train)\n",
    "\n",
    "y_pred = best_ada_clf.predict(X_test)\n",
    "y_probas = best_ada_clf.predict_proba(X_test)\n",
    "print(\"Mean log_loss : %.4f\" %log_loss(y_test,y_probas))\n",
    "print(\"Execution time: %.3fs\" %(clock()-start))"
   ]
  },
  {
   "cell_type": "code",
   "execution_count": null,
   "metadata": {
    "collapsed": false
   },
   "outputs": [
    {
     "name": "stdout",
     "output_type": "stream",
     "text": [
      "Fitting 5 folds for each of 12 candidates, totalling 60 fits\n"
     ]
    }
   ],
   "source": [
    "\"\"\" Gradient Boosting Classifier \"\"\"\n",
    "\n",
    "gbc_param_grid = {'n_estimators': [100, 300, 600],\n",
    "                  'learning_rate': [0.1, 0.2, 0.5, 1.],\n",
    "                 }\n",
    "\n",
    "gbc_grid_search = GridSearchCV(estimator = GradientBoostingClassifier(random_state=42),\n",
    "                               param_grid = gbc_param_grid,\n",
    "                               cv=5, n_jobs=-1,\n",
    "                               verbose = 1,\n",
    "                               scoring = 'neg_log_loss')\n",
    "start = time()\n",
    "gbc_grid_search.fit(X_train, y_train)\n",
    "print(\"GridSearchCV took %.2f seconds for %d candidate parameter settings.\"\n",
    "      % (time() - start, len(gbc_grid_search.grid_scores_)))\n",
    "print(gbc_grid_search.best_params_)\n",
    "\n",
    "best_gbc_clf = gbc_grid_search.best_estimator_\n",
    "best_gbc_clf.fit(X_train, y_train)\n",
    "\n",
    "y_pred = best_gbc_clf.predict(X_test)\n",
    "y_probas = best_gbc_clf.predict_proba(X_test)\n",
    "print(\"Mean log_loss : %.4f\" %log_loss(y_test,y_probas))"
   ]
  },
  {
   "cell_type": "code",
   "execution_count": null,
   "metadata": {
    "collapsed": false
   },
   "outputs": [],
   "source": [
    "\"\"\" Multi-Layer Perceptron Classifier \"\"\"\n",
    "nn_param_grid = { \n",
    "    'alpha': [0.0001, 0.001, 0.1, 1],\n",
    "    'learning_rate_init': [0.001, 0.01, 0.1, 1],\n",
    "    'solver': ['lbfgs', 'adam'],\n",
    "    'activation': ['relu', 'tanh', 'logistic']\n",
    "    }\n",
    "\n",
    "nn_grid_search = GridSearchCV(estimator = MLPClassifier(random_state = 42),\n",
    "                              param_grid = nn_param_grid,\n",
    "                              cv = 5, n_jobs = -1,\n",
    "                              verbose = 1,\n",
    "                              scoring = 'neg_log_loss')\n",
    "start = time()\n",
    "nn_grid_search.fit(X_train, y_train)\n",
    "print(\"GridSearchCV took %.2f seconds for %d candidate parameter settings.\"\n",
    "      % (time() - start, len(nn_grid_search.grid_scores_)))\n",
    "print(nn_grid_search.best_params_)\n",
    "\n",
    "best_nn = nn_grid_search.best_estimator_\n",
    "best_nn.fit(X_train, y_train)\n",
    "\n",
    "y_pred = best_nn.predict(X_test)\n",
    "y_probas = best_nn.predict_proba(X_test)\n",
    "print(\"Mean log_loss : %.4f\" %log_loss(y_test,y_probas))"
   ]
  },
  {
   "cell_type": "code",
   "execution_count": null,
   "metadata": {
    "collapsed": false
   },
   "outputs": [],
   "source": [
    "\"\"\" Random Forest Classifier \"\"\"\n",
    "\n",
    "rf_param_grid = {'n_estimators': [100, 200, 300, 400, 500, 600],\n",
    "                  'criterion': ['gini','entropy'],\n",
    "                  'max_depth': [1,2,5,10,20]\n",
    "                 }\n",
    "\n",
    "rf_grid_search = GridSearchCV(estimator = RandomForestClassifier(random_state=42),\n",
    "                              param_grid = rf_param_grid,\n",
    "                              cv=5, n_jobs=-1,\n",
    "                              verbose = 1,\n",
    "                              scoring = 'neg_log_loss')\n",
    "start = time()\n",
    "rf_grid_search.fit(X_train, y_train)\n",
    "print(\"GridSearchCV took %.2f seconds for %d candidate parameter settings.\"\n",
    "      % (time() - start, len(rf_grid_search.grid_scores_)))\n",
    "print(rf_grid_search.best_params_)\n",
    "\n",
    "best_rf_clf = rf_grid_search.best_estimator_\n",
    "best_rf_clf.fit(X_train, y_train)\n",
    "\n",
    "y_pred = best_rf_clf.predict(X_test)\n",
    "y_probas = best_rf_clf.predict_proba(X_test)\n",
    "print(\"Mean log_loss : %.4f\" %log_loss(y_test,y_probas))"
   ]
  },
  {
   "cell_type": "markdown",
   "metadata": {},
   "source": [
    "## Dimensionality reduction"
   ]
  },
  {
   "cell_type": "code",
   "execution_count": 29,
   "metadata": {
    "collapsed": false
   },
   "outputs": [
    {
     "name": "stdout",
     "output_type": "stream",
     "text": [
      "For 1 components\n",
      "mean logloss: 11.674\n"
     ]
    },
    {
     "ename": "KeyboardInterrupt",
     "evalue": "",
     "output_type": "error",
     "traceback": [
      "\u001b[1;31m---------------------------------------------------------------------------\u001b[0m",
      "\u001b[1;31mKeyboardInterrupt\u001b[0m                         Traceback (most recent call last)",
      "\u001b[1;32m<ipython-input-29-2e701214d996>\u001b[0m in \u001b[0;36m<module>\u001b[1;34m()\u001b[0m\n\u001b[0;32m     10\u001b[0m \u001b[1;33m\u001b[0m\u001b[0m\n\u001b[0;32m     11\u001b[0m     \u001b[0mXtr_new\u001b[0m \u001b[1;33m=\u001b[0m \u001b[0mpca\u001b[0m\u001b[1;33m.\u001b[0m\u001b[0mfit_transform\u001b[0m\u001b[1;33m(\u001b[0m\u001b[0mX_train\u001b[0m\u001b[1;33m,\u001b[0m\u001b[0my_train\u001b[0m\u001b[1;33m)\u001b[0m\u001b[1;33m\u001b[0m\u001b[0m\n\u001b[1;32m---> 12\u001b[1;33m     \u001b[0mmodel\u001b[0m\u001b[1;33m.\u001b[0m\u001b[0mfit\u001b[0m\u001b[1;33m(\u001b[0m\u001b[0mXtr_new\u001b[0m\u001b[1;33m,\u001b[0m\u001b[0my_train\u001b[0m\u001b[1;33m)\u001b[0m\u001b[1;33m\u001b[0m\u001b[0m\n\u001b[0m\u001b[0;32m     13\u001b[0m \u001b[1;33m\u001b[0m\u001b[0m\n\u001b[0;32m     14\u001b[0m     \u001b[0mXte_new\u001b[0m \u001b[1;33m=\u001b[0m \u001b[0mpca\u001b[0m\u001b[1;33m.\u001b[0m\u001b[0mtransform\u001b[0m\u001b[1;33m(\u001b[0m\u001b[0mX_test\u001b[0m\u001b[1;33m)\u001b[0m\u001b[1;33m\u001b[0m\u001b[0m\n",
      "\u001b[1;32mC:\\Program Files\\Python 3.4\\lib\\site-packages\\sklearn\\ensemble\\forest.py\u001b[0m in \u001b[0;36mfit\u001b[1;34m(self, X, y, sample_weight)\u001b[0m\n\u001b[0;32m    324\u001b[0m                     \u001b[0mt\u001b[0m\u001b[1;33m,\u001b[0m \u001b[0mself\u001b[0m\u001b[1;33m,\u001b[0m \u001b[0mX\u001b[0m\u001b[1;33m,\u001b[0m \u001b[0my\u001b[0m\u001b[1;33m,\u001b[0m \u001b[0msample_weight\u001b[0m\u001b[1;33m,\u001b[0m \u001b[0mi\u001b[0m\u001b[1;33m,\u001b[0m \u001b[0mlen\u001b[0m\u001b[1;33m(\u001b[0m\u001b[0mtrees\u001b[0m\u001b[1;33m)\u001b[0m\u001b[1;33m,\u001b[0m\u001b[1;33m\u001b[0m\u001b[0m\n\u001b[0;32m    325\u001b[0m                     verbose=self.verbose, class_weight=self.class_weight)\n\u001b[1;32m--> 326\u001b[1;33m                 for i, t in enumerate(trees))\n\u001b[0m\u001b[0;32m    327\u001b[0m \u001b[1;33m\u001b[0m\u001b[0m\n\u001b[0;32m    328\u001b[0m             \u001b[1;31m# Collect newly grown trees\u001b[0m\u001b[1;33m\u001b[0m\u001b[1;33m\u001b[0m\u001b[0m\n",
      "\u001b[1;32mC:\\Program Files\\Python 3.4\\lib\\site-packages\\sklearn\\externals\\joblib\\parallel.py\u001b[0m in \u001b[0;36m__call__\u001b[1;34m(self, iterable)\u001b[0m\n\u001b[0;32m    756\u001b[0m             \u001b[1;31m# was dispatched. In particular this covers the edge\u001b[0m\u001b[1;33m\u001b[0m\u001b[1;33m\u001b[0m\u001b[0m\n\u001b[0;32m    757\u001b[0m             \u001b[1;31m# case of Parallel used with an exhausted iterator.\u001b[0m\u001b[1;33m\u001b[0m\u001b[1;33m\u001b[0m\u001b[0m\n\u001b[1;32m--> 758\u001b[1;33m             \u001b[1;32mwhile\u001b[0m \u001b[0mself\u001b[0m\u001b[1;33m.\u001b[0m\u001b[0mdispatch_one_batch\u001b[0m\u001b[1;33m(\u001b[0m\u001b[0miterator\u001b[0m\u001b[1;33m)\u001b[0m\u001b[1;33m:\u001b[0m\u001b[1;33m\u001b[0m\u001b[0m\n\u001b[0m\u001b[0;32m    759\u001b[0m                 \u001b[0mself\u001b[0m\u001b[1;33m.\u001b[0m\u001b[0m_iterating\u001b[0m \u001b[1;33m=\u001b[0m \u001b[1;32mTrue\u001b[0m\u001b[1;33m\u001b[0m\u001b[0m\n\u001b[0;32m    760\u001b[0m             \u001b[1;32melse\u001b[0m\u001b[1;33m:\u001b[0m\u001b[1;33m\u001b[0m\u001b[0m\n",
      "\u001b[1;32mC:\\Program Files\\Python 3.4\\lib\\site-packages\\sklearn\\externals\\joblib\\parallel.py\u001b[0m in \u001b[0;36mdispatch_one_batch\u001b[1;34m(self, iterator)\u001b[0m\n\u001b[0;32m    606\u001b[0m                 \u001b[1;32mreturn\u001b[0m \u001b[1;32mFalse\u001b[0m\u001b[1;33m\u001b[0m\u001b[0m\n\u001b[0;32m    607\u001b[0m             \u001b[1;32melse\u001b[0m\u001b[1;33m:\u001b[0m\u001b[1;33m\u001b[0m\u001b[0m\n\u001b[1;32m--> 608\u001b[1;33m                 \u001b[0mself\u001b[0m\u001b[1;33m.\u001b[0m\u001b[0m_dispatch\u001b[0m\u001b[1;33m(\u001b[0m\u001b[0mtasks\u001b[0m\u001b[1;33m)\u001b[0m\u001b[1;33m\u001b[0m\u001b[0m\n\u001b[0m\u001b[0;32m    609\u001b[0m                 \u001b[1;32mreturn\u001b[0m \u001b[1;32mTrue\u001b[0m\u001b[1;33m\u001b[0m\u001b[0m\n\u001b[0;32m    610\u001b[0m \u001b[1;33m\u001b[0m\u001b[0m\n",
      "\u001b[1;32mC:\\Program Files\\Python 3.4\\lib\\site-packages\\sklearn\\externals\\joblib\\parallel.py\u001b[0m in \u001b[0;36m_dispatch\u001b[1;34m(self, batch)\u001b[0m\n\u001b[0;32m    569\u001b[0m         \u001b[0mdispatch_timestamp\u001b[0m \u001b[1;33m=\u001b[0m \u001b[0mtime\u001b[0m\u001b[1;33m.\u001b[0m\u001b[0mtime\u001b[0m\u001b[1;33m(\u001b[0m\u001b[1;33m)\u001b[0m\u001b[1;33m\u001b[0m\u001b[0m\n\u001b[0;32m    570\u001b[0m         \u001b[0mcb\u001b[0m \u001b[1;33m=\u001b[0m \u001b[0mBatchCompletionCallBack\u001b[0m\u001b[1;33m(\u001b[0m\u001b[0mdispatch_timestamp\u001b[0m\u001b[1;33m,\u001b[0m \u001b[0mlen\u001b[0m\u001b[1;33m(\u001b[0m\u001b[0mbatch\u001b[0m\u001b[1;33m)\u001b[0m\u001b[1;33m,\u001b[0m \u001b[0mself\u001b[0m\u001b[1;33m)\u001b[0m\u001b[1;33m\u001b[0m\u001b[0m\n\u001b[1;32m--> 571\u001b[1;33m         \u001b[0mjob\u001b[0m \u001b[1;33m=\u001b[0m \u001b[0mself\u001b[0m\u001b[1;33m.\u001b[0m\u001b[0m_backend\u001b[0m\u001b[1;33m.\u001b[0m\u001b[0mapply_async\u001b[0m\u001b[1;33m(\u001b[0m\u001b[0mbatch\u001b[0m\u001b[1;33m,\u001b[0m \u001b[0mcallback\u001b[0m\u001b[1;33m=\u001b[0m\u001b[0mcb\u001b[0m\u001b[1;33m)\u001b[0m\u001b[1;33m\u001b[0m\u001b[0m\n\u001b[0m\u001b[0;32m    572\u001b[0m         \u001b[0mself\u001b[0m\u001b[1;33m.\u001b[0m\u001b[0m_jobs\u001b[0m\u001b[1;33m.\u001b[0m\u001b[0mappend\u001b[0m\u001b[1;33m(\u001b[0m\u001b[0mjob\u001b[0m\u001b[1;33m)\u001b[0m\u001b[1;33m\u001b[0m\u001b[0m\n\u001b[0;32m    573\u001b[0m \u001b[1;33m\u001b[0m\u001b[0m\n",
      "\u001b[1;32mC:\\Program Files\\Python 3.4\\lib\\site-packages\\sklearn\\externals\\joblib\\_parallel_backends.py\u001b[0m in \u001b[0;36mapply_async\u001b[1;34m(self, func, callback)\u001b[0m\n\u001b[0;32m    107\u001b[0m     \u001b[1;32mdef\u001b[0m \u001b[0mapply_async\u001b[0m\u001b[1;33m(\u001b[0m\u001b[0mself\u001b[0m\u001b[1;33m,\u001b[0m \u001b[0mfunc\u001b[0m\u001b[1;33m,\u001b[0m \u001b[0mcallback\u001b[0m\u001b[1;33m=\u001b[0m\u001b[1;32mNone\u001b[0m\u001b[1;33m)\u001b[0m\u001b[1;33m:\u001b[0m\u001b[1;33m\u001b[0m\u001b[0m\n\u001b[0;32m    108\u001b[0m         \u001b[1;34m\"\"\"Schedule a func to be run\"\"\"\u001b[0m\u001b[1;33m\u001b[0m\u001b[0m\n\u001b[1;32m--> 109\u001b[1;33m         \u001b[0mresult\u001b[0m \u001b[1;33m=\u001b[0m \u001b[0mImmediateResult\u001b[0m\u001b[1;33m(\u001b[0m\u001b[0mfunc\u001b[0m\u001b[1;33m)\u001b[0m\u001b[1;33m\u001b[0m\u001b[0m\n\u001b[0m\u001b[0;32m    110\u001b[0m         \u001b[1;32mif\u001b[0m \u001b[0mcallback\u001b[0m\u001b[1;33m:\u001b[0m\u001b[1;33m\u001b[0m\u001b[0m\n\u001b[0;32m    111\u001b[0m             \u001b[0mcallback\u001b[0m\u001b[1;33m(\u001b[0m\u001b[0mresult\u001b[0m\u001b[1;33m)\u001b[0m\u001b[1;33m\u001b[0m\u001b[0m\n",
      "\u001b[1;32mC:\\Program Files\\Python 3.4\\lib\\site-packages\\sklearn\\externals\\joblib\\_parallel_backends.py\u001b[0m in \u001b[0;36m__init__\u001b[1;34m(self, batch)\u001b[0m\n\u001b[0;32m    324\u001b[0m         \u001b[1;31m# Don't delay the application, to avoid keeping the input\u001b[0m\u001b[1;33m\u001b[0m\u001b[1;33m\u001b[0m\u001b[0m\n\u001b[0;32m    325\u001b[0m         \u001b[1;31m# arguments in memory\u001b[0m\u001b[1;33m\u001b[0m\u001b[1;33m\u001b[0m\u001b[0m\n\u001b[1;32m--> 326\u001b[1;33m         \u001b[0mself\u001b[0m\u001b[1;33m.\u001b[0m\u001b[0mresults\u001b[0m \u001b[1;33m=\u001b[0m \u001b[0mbatch\u001b[0m\u001b[1;33m(\u001b[0m\u001b[1;33m)\u001b[0m\u001b[1;33m\u001b[0m\u001b[0m\n\u001b[0m\u001b[0;32m    327\u001b[0m \u001b[1;33m\u001b[0m\u001b[0m\n\u001b[0;32m    328\u001b[0m     \u001b[1;32mdef\u001b[0m \u001b[0mget\u001b[0m\u001b[1;33m(\u001b[0m\u001b[0mself\u001b[0m\u001b[1;33m)\u001b[0m\u001b[1;33m:\u001b[0m\u001b[1;33m\u001b[0m\u001b[0m\n",
      "\u001b[1;32mC:\\Program Files\\Python 3.4\\lib\\site-packages\\sklearn\\externals\\joblib\\parallel.py\u001b[0m in \u001b[0;36m__call__\u001b[1;34m(self)\u001b[0m\n\u001b[0;32m    129\u001b[0m \u001b[1;33m\u001b[0m\u001b[0m\n\u001b[0;32m    130\u001b[0m     \u001b[1;32mdef\u001b[0m \u001b[0m__call__\u001b[0m\u001b[1;33m(\u001b[0m\u001b[0mself\u001b[0m\u001b[1;33m)\u001b[0m\u001b[1;33m:\u001b[0m\u001b[1;33m\u001b[0m\u001b[0m\n\u001b[1;32m--> 131\u001b[1;33m         \u001b[1;32mreturn\u001b[0m \u001b[1;33m[\u001b[0m\u001b[0mfunc\u001b[0m\u001b[1;33m(\u001b[0m\u001b[1;33m*\u001b[0m\u001b[0margs\u001b[0m\u001b[1;33m,\u001b[0m \u001b[1;33m**\u001b[0m\u001b[0mkwargs\u001b[0m\u001b[1;33m)\u001b[0m \u001b[1;32mfor\u001b[0m \u001b[0mfunc\u001b[0m\u001b[1;33m,\u001b[0m \u001b[0margs\u001b[0m\u001b[1;33m,\u001b[0m \u001b[0mkwargs\u001b[0m \u001b[1;32min\u001b[0m \u001b[0mself\u001b[0m\u001b[1;33m.\u001b[0m\u001b[0mitems\u001b[0m\u001b[1;33m]\u001b[0m\u001b[1;33m\u001b[0m\u001b[0m\n\u001b[0m\u001b[0;32m    132\u001b[0m \u001b[1;33m\u001b[0m\u001b[0m\n\u001b[0;32m    133\u001b[0m     \u001b[1;32mdef\u001b[0m \u001b[0m__len__\u001b[0m\u001b[1;33m(\u001b[0m\u001b[0mself\u001b[0m\u001b[1;33m)\u001b[0m\u001b[1;33m:\u001b[0m\u001b[1;33m\u001b[0m\u001b[0m\n",
      "\u001b[1;32mC:\\Program Files\\Python 3.4\\lib\\site-packages\\sklearn\\externals\\joblib\\parallel.py\u001b[0m in \u001b[0;36m<listcomp>\u001b[1;34m(.0)\u001b[0m\n\u001b[0;32m    129\u001b[0m \u001b[1;33m\u001b[0m\u001b[0m\n\u001b[0;32m    130\u001b[0m     \u001b[1;32mdef\u001b[0m \u001b[0m__call__\u001b[0m\u001b[1;33m(\u001b[0m\u001b[0mself\u001b[0m\u001b[1;33m)\u001b[0m\u001b[1;33m:\u001b[0m\u001b[1;33m\u001b[0m\u001b[0m\n\u001b[1;32m--> 131\u001b[1;33m         \u001b[1;32mreturn\u001b[0m \u001b[1;33m[\u001b[0m\u001b[0mfunc\u001b[0m\u001b[1;33m(\u001b[0m\u001b[1;33m*\u001b[0m\u001b[0margs\u001b[0m\u001b[1;33m,\u001b[0m \u001b[1;33m**\u001b[0m\u001b[0mkwargs\u001b[0m\u001b[1;33m)\u001b[0m \u001b[1;32mfor\u001b[0m \u001b[0mfunc\u001b[0m\u001b[1;33m,\u001b[0m \u001b[0margs\u001b[0m\u001b[1;33m,\u001b[0m \u001b[0mkwargs\u001b[0m \u001b[1;32min\u001b[0m \u001b[0mself\u001b[0m\u001b[1;33m.\u001b[0m\u001b[0mitems\u001b[0m\u001b[1;33m]\u001b[0m\u001b[1;33m\u001b[0m\u001b[0m\n\u001b[0m\u001b[0;32m    132\u001b[0m \u001b[1;33m\u001b[0m\u001b[0m\n\u001b[0;32m    133\u001b[0m     \u001b[1;32mdef\u001b[0m \u001b[0m__len__\u001b[0m\u001b[1;33m(\u001b[0m\u001b[0mself\u001b[0m\u001b[1;33m)\u001b[0m\u001b[1;33m:\u001b[0m\u001b[1;33m\u001b[0m\u001b[0m\n",
      "\u001b[1;32mC:\\Program Files\\Python 3.4\\lib\\site-packages\\sklearn\\ensemble\\forest.py\u001b[0m in \u001b[0;36m_parallel_build_trees\u001b[1;34m(tree, forest, X, y, sample_weight, tree_idx, n_trees, verbose, class_weight)\u001b[0m\n\u001b[0;32m    118\u001b[0m             \u001b[0mcurr_sample_weight\u001b[0m \u001b[1;33m*=\u001b[0m \u001b[0mcompute_sample_weight\u001b[0m\u001b[1;33m(\u001b[0m\u001b[1;34m'balanced'\u001b[0m\u001b[1;33m,\u001b[0m \u001b[0my\u001b[0m\u001b[1;33m,\u001b[0m \u001b[0mindices\u001b[0m\u001b[1;33m)\u001b[0m\u001b[1;33m\u001b[0m\u001b[0m\n\u001b[0;32m    119\u001b[0m \u001b[1;33m\u001b[0m\u001b[0m\n\u001b[1;32m--> 120\u001b[1;33m         \u001b[0mtree\u001b[0m\u001b[1;33m.\u001b[0m\u001b[0mfit\u001b[0m\u001b[1;33m(\u001b[0m\u001b[0mX\u001b[0m\u001b[1;33m,\u001b[0m \u001b[0my\u001b[0m\u001b[1;33m,\u001b[0m \u001b[0msample_weight\u001b[0m\u001b[1;33m=\u001b[0m\u001b[0mcurr_sample_weight\u001b[0m\u001b[1;33m,\u001b[0m \u001b[0mcheck_input\u001b[0m\u001b[1;33m=\u001b[0m\u001b[1;32mFalse\u001b[0m\u001b[1;33m)\u001b[0m\u001b[1;33m\u001b[0m\u001b[0m\n\u001b[0m\u001b[0;32m    121\u001b[0m     \u001b[1;32melse\u001b[0m\u001b[1;33m:\u001b[0m\u001b[1;33m\u001b[0m\u001b[0m\n\u001b[0;32m    122\u001b[0m         \u001b[0mtree\u001b[0m\u001b[1;33m.\u001b[0m\u001b[0mfit\u001b[0m\u001b[1;33m(\u001b[0m\u001b[0mX\u001b[0m\u001b[1;33m,\u001b[0m \u001b[0my\u001b[0m\u001b[1;33m,\u001b[0m \u001b[0msample_weight\u001b[0m\u001b[1;33m=\u001b[0m\u001b[0msample_weight\u001b[0m\u001b[1;33m,\u001b[0m \u001b[0mcheck_input\u001b[0m\u001b[1;33m=\u001b[0m\u001b[1;32mFalse\u001b[0m\u001b[1;33m)\u001b[0m\u001b[1;33m\u001b[0m\u001b[0m\n",
      "\u001b[1;32mC:\\Program Files\\Python 3.4\\lib\\site-packages\\sklearn\\tree\\tree.py\u001b[0m in \u001b[0;36mfit\u001b[1;34m(self, X, y, sample_weight, check_input, X_idx_sorted)\u001b[0m\n\u001b[0;32m    737\u001b[0m             \u001b[0msample_weight\u001b[0m\u001b[1;33m=\u001b[0m\u001b[0msample_weight\u001b[0m\u001b[1;33m,\u001b[0m\u001b[1;33m\u001b[0m\u001b[0m\n\u001b[0;32m    738\u001b[0m             \u001b[0mcheck_input\u001b[0m\u001b[1;33m=\u001b[0m\u001b[0mcheck_input\u001b[0m\u001b[1;33m,\u001b[0m\u001b[1;33m\u001b[0m\u001b[0m\n\u001b[1;32m--> 739\u001b[1;33m             X_idx_sorted=X_idx_sorted)\n\u001b[0m\u001b[0;32m    740\u001b[0m         \u001b[1;32mreturn\u001b[0m \u001b[0mself\u001b[0m\u001b[1;33m\u001b[0m\u001b[0m\n\u001b[0;32m    741\u001b[0m \u001b[1;33m\u001b[0m\u001b[0m\n",
      "\u001b[1;32mC:\\Program Files\\Python 3.4\\lib\\site-packages\\sklearn\\tree\\tree.py\u001b[0m in \u001b[0;36mfit\u001b[1;34m(self, X, y, sample_weight, check_input, X_idx_sorted)\u001b[0m\n\u001b[0;32m    348\u001b[0m                                            self.min_impurity_split)\n\u001b[0;32m    349\u001b[0m \u001b[1;33m\u001b[0m\u001b[0m\n\u001b[1;32m--> 350\u001b[1;33m         \u001b[0mbuilder\u001b[0m\u001b[1;33m.\u001b[0m\u001b[0mbuild\u001b[0m\u001b[1;33m(\u001b[0m\u001b[0mself\u001b[0m\u001b[1;33m.\u001b[0m\u001b[0mtree_\u001b[0m\u001b[1;33m,\u001b[0m \u001b[0mX\u001b[0m\u001b[1;33m,\u001b[0m \u001b[0my\u001b[0m\u001b[1;33m,\u001b[0m \u001b[0msample_weight\u001b[0m\u001b[1;33m,\u001b[0m \u001b[0mX_idx_sorted\u001b[0m\u001b[1;33m)\u001b[0m\u001b[1;33m\u001b[0m\u001b[0m\n\u001b[0m\u001b[0;32m    351\u001b[0m \u001b[1;33m\u001b[0m\u001b[0m\n\u001b[0;32m    352\u001b[0m         \u001b[1;32mif\u001b[0m \u001b[0mself\u001b[0m\u001b[1;33m.\u001b[0m\u001b[0mn_outputs_\u001b[0m \u001b[1;33m==\u001b[0m \u001b[1;36m1\u001b[0m\u001b[1;33m:\u001b[0m\u001b[1;33m\u001b[0m\u001b[0m\n",
      "\u001b[1;31mKeyboardInterrupt\u001b[0m: "
     ]
    }
   ],
   "source": [
    "# Optimisation du nombre de composantes dans la PCA\n",
    "tps = clock()\n",
    "scores = []\n",
    "times = []\n",
    "model = RandomForestClassifier(n_estimators=150, criterion ='entropy')\n",
    "max_comp = 20\n",
    "for n_comp in range(1,max_comp):\n",
    "    tps2 = clock()\n",
    "    pca = PCA(n_components=n_comp)\n",
    "    \n",
    "    Xtr_new = pca.fit_transform(X_train,y_train)\n",
    "    model.fit(Xtr_new,y_train)\n",
    "    \n",
    "    Xte_new = pca.transform(X_test)\n",
    "    y_probas = model.predict_proba(Xte_new)\n",
    "    score = log_loss(y_test,y_probas)\n",
    "    \n",
    "    scores.append(score)\n",
    "    times.append(clock()-tps2)\n",
    "    print(\"For %i components\"%n_comp)\n",
    "    print(\"mean logloss: %.3f\"%score)\n",
    "\n",
    "print(\"Computation time: %.2fs\" %(clock()-tps))\n",
    "plt.plot(np.arange(1,max_comp),scores)\n",
    "plt.title(\"logloss wrt the number of PCA components\")\n",
    "plt.xlabel(\"Number of PCA components\")\n",
    "plt.ylabel(\"logloss score\")\n",
    "plt.figure()\n",
    "plt.plot(np.arange(1,max_comp),times)\n",
    "plt.title(\"Computation time wrt the number of PCA components\")\n",
    "plt.xlabel(\"Number of PCA components\")\n",
    "plt.ylabel(\"Computation time\")"
   ]
  },
  {
   "cell_type": "markdown",
   "metadata": {},
   "source": [
    "# Overfitting"
   ]
  },
  {
   "cell_type": "code",
   "execution_count": null,
   "metadata": {
    "collapsed": false
   },
   "outputs": [],
   "source": [
    "# Check overfitting avec le max_depth\n",
    "tps = clock()\n",
    "accuracies = []\n",
    "max_depth = 50\n",
    "\n",
    "tr_scores = []\n",
    "te_scores = []\n",
    "\n",
    "for depth in range(1,max_depth):\n",
    "    print(depth)\n",
    "    model = RandomForestClassifier(n_estimators=150, criterion ='entropy', max_depth = depth)\n",
    "    model.fit(X_train,y_train)\n",
    "    \n",
    "    train_probas = model.predict_proba(X_train)[:,1]\n",
    "    test_probas = model.predict_proba(X_test)[:,1]\n",
    "    tr_score = roc_auc_score(y_train,train_probas)\n",
    "    te_score = roc_auc_score(y_test,test_probas)\n",
    "    tr_scores.append(tr_score)\n",
    "    te_scores.append(te_score)\n",
    "\n",
    "print(\"Computation time: %.2fs\" %(clock()-tps))\n",
    "plt.plot(np.arange(1,max_depth),tr_scores,c = 'b',label = \"Train\")\n",
    "plt.plot(np.arange(1,max_depth),te_scores,c = 'r',label = \"Test\")\n",
    "plt.legend()\n",
    "plt.title(\"AUC on train and test sets wrt the depth of the trees\")\n",
    "plt.xlabel(\"max depth\")\n",
    "plt.ylabel(\"Accuracy\")"
   ]
  },
  {
   "cell_type": "markdown",
   "metadata": {},
   "source": [
    "## n_estimators in random forest"
   ]
  },
  {
   "cell_type": "code",
   "execution_count": 11,
   "metadata": {
    "collapsed": false
   },
   "outputs": [
    {
     "name": "stdout",
     "output_type": "stream",
     "text": [
      "Computation time: 1522.16s\n"
     ]
    },
    {
     "data": {
      "text/plain": [
       "<matplotlib.text.Text at 0xc236e10>"
      ]
     },
     "execution_count": 11,
     "metadata": {},
     "output_type": "execute_result"
    },
    {
     "data": {
      "image/png": "[encoded data removed]",
      "text/plain": [
       "<matplotlib.figure.Figure at 0xc3305f8>"
      ]
     },
     "metadata": {},
     "output_type": "display_data"
    }
   ],
   "source": [
    "tps = clock()\n",
    "max_est = 500\n",
    "step = 10\n",
    "scores = []\n",
    "\n",
    "for nb_est in range(50,max_est,step):\n",
    "    model = RandomForestClassifier(n_estimators=nb_est, criterion ='gini')\n",
    "    model.fit(X_train,y_train)\n",
    "    scores.append(log_loss(y_test,model.predict_proba(X_test)))\n",
    "\n",
    "print(\"Computation time: %.2fs\" %(clock()-tps))\n",
    "plt.plot(np.arange(50,max_est,step),scores,c = 'b')\n",
    "plt.title(\"logloss on train and test sets wrt the number of estimators\")\n",
    "plt.xlabel(\"number of estimators\")\n",
    "plt.ylabel(\"logloss\")"
   ]
  },
  {
   "cell_type": "markdown",
   "metadata": {},
   "source": [
    "## Learning curves"
   ]
  },
  {
   "cell_type": "code",
   "execution_count": 15,
   "metadata": {
    "collapsed": false
   },
   "outputs": [
    {
     "name": "stdout",
     "output_type": "stream",
     "text": [
      "At most 49502 rows\n",
      "100\n",
      "1100\n",
      "2100\n",
      "3100\n",
      "4100\n",
      "5100\n",
      "6100\n",
      "7100\n",
      "8100\n",
      "9100\n",
      "10100\n",
      "11100\n",
      "12100\n",
      "13100\n",
      "14100\n",
      "15100\n",
      "16100\n",
      "17100\n",
      "18100\n",
      "19100\n",
      "20100\n",
      "21100\n",
      "22100\n",
      "23100\n",
      "24100\n",
      "25100\n",
      "26100\n",
      "27100\n",
      "28100\n",
      "29100\n",
      "30100\n",
      "31100\n",
      "32100\n",
      "33100\n",
      "34100\n",
      "35100\n",
      "36100\n",
      "37100\n",
      "38100\n",
      "39100\n",
      "40100\n",
      "41100\n",
      "42100\n",
      "43100\n",
      "44100\n",
      "45100\n",
      "46100\n",
      "47100\n",
      "48100\n",
      "49100\n",
      "Execution time: 3228.205s\n"
     ]
    },
    {
     "data": {
      "image/png": "[encoded data removed]",
      "text/plain": [
       "<matplotlib.figure.Figure at 0xcc22710>"
      ]
     },
     "metadata": {},
     "output_type": "display_data"
    }
   ],
   "source": [
    "tps = clock()\n",
    "scores = []\n",
    "start,stop,step = 100,len(X_train),1000\n",
    "print(\"At most %i rows\" %len(X_train))\n",
    "\n",
    "#best_gbc_clf = GradientBoostingClassifier(random_state = 42, learning_rate = 0.2, n_estimators = 600)\n",
    "best_gbc_clf = GradientBoostingClassifier()\n",
    "    \n",
    "for nb_rows in range(start,stop,step):\n",
    "    print(nb_rows)\n",
    "    # On utilise ici un classifieur par gradientboosting avec les meilleurs HP trouvés\n",
    "    best_gbc_clf.fit(X_train[:nb_rows], y_train[:nb_rows])\n",
    "    scores.append(log_loss(y_test,best_gbc_clf.predict_proba(X_test),labels = [1,2,3,4,5,6,7,8,9]))\n",
    "    \n",
    "plt.plot(np.arange(start,stop,step),scores)\n",
    "plt.title('Learning curve of the gradient boosting classififier')\n",
    "plt.xlabel('Number of training examples')\n",
    "plt.ylabel('logloss')\n",
    "print(\"Execution time: %.3fs\" %(clock()-tps))"
   ]
  },
  {
   "cell_type": "code",
   "execution_count": 16,
   "metadata": {
    "collapsed": false
   },
   "outputs": [
    {
     "name": "stdout",
     "output_type": "stream",
     "text": [
      "At most 49502 rows\n",
      "Execution time: 309.647s\n"
     ]
    },
    {
     "data": {
      "image/png": "[encoded data removed]",
      "text/plain": [
       "<matplotlib.figure.Figure at 0xcc22f60>"
      ]
     },
     "metadata": {},
     "output_type": "display_data"
    }
   ],
   "source": [
    "tps = clock()\n",
    "scores = []\n",
    "start,stop,step = 100,len(X_train),100\n",
    "print(\"At most %i rows\" %len(X_train))\n",
    "\n",
    "best_rf_clf = RandomForestClassifier()\n",
    "\n",
    "for nb_rows in range(start,stop,step):\n",
    "    # On utilise ici un classifieur par random forest avec les meilleurs HP trouvés\n",
    "    best_rf_clf.fit(X_train[:nb_rows], y_train[:nb_rows])\n",
    "    scores.append(log_loss(y_test,best_rf_clf.predict_proba(X_test),labels = [1,2,3,4,5,6,7,8,9]))\n",
    "    \n",
    "plt.plot(np.arange(start,stop,step),scores)\n",
    "plt.title('Learning curve of the random forest classififier')\n",
    "plt.xlabel('Number of training examples')\n",
    "plt.ylabel('logloss')\n",
    "print(\"Execution time: %.3fs\" %(clock()-tps))"
   ]
  },
  {
   "cell_type": "markdown",
   "metadata": {},
   "source": [
    "## Feature construction"
   ]
  },
  {
   "cell_type": "code",
   "execution_count": 42,
   "metadata": {
    "collapsed": false
   },
   "outputs": [
    {
     "name": "stdout",
     "output_type": "stream",
     "text": [
      "Before the feature construction: 93 columns\n",
      "After it: 293 columns\n"
     ]
    },
    {
     "data": {
      "text/html": [
       "<div>\n",
       "<table border=\"1\" class=\"dataframe\">\n",
       "  <thead>\n",
       "    <tr style=\"text-align: right;\">\n",
       "      <th></th>\n",
       "      <th>feat_1</th>\n",
       "      <th>feat_2</th>\n",
       "      <th>feat_3</th>\n",
       "      <th>feat_4</th>\n",
       "      <th>feat_5</th>\n",
       "      <th>feat_6</th>\n",
       "      <th>feat_7</th>\n",
       "      <th>feat_8</th>\n",
       "      <th>feat_9</th>\n",
       "      <th>feat_10</th>\n",
       "      <th>...</th>\n",
       "      <th>feat_86 * feat_67</th>\n",
       "      <th>feat_86 max feat_67</th>\n",
       "      <th>feat_86 * feat_60</th>\n",
       "      <th>feat_86 max feat_60</th>\n",
       "      <th>feat_86 * feat_14</th>\n",
       "      <th>feat_86 max feat_14</th>\n",
       "      <th>feat_86 * feat_25</th>\n",
       "      <th>feat_86 max feat_25</th>\n",
       "      <th>feat_86 * feat_86</th>\n",
       "      <th>feat_86 max feat_86</th>\n",
       "    </tr>\n",
       "  </thead>\n",
       "  <tbody>\n",
       "    <tr>\n",
       "      <th>0</th>\n",
       "      <td>1</td>\n",
       "      <td>0</td>\n",
       "      <td>0</td>\n",
       "      <td>0</td>\n",
       "      <td>0</td>\n",
       "      <td>0</td>\n",
       "      <td>0</td>\n",
       "      <td>0</td>\n",
       "      <td>0</td>\n",
       "      <td>0</td>\n",
       "      <td>...</td>\n",
       "      <td>0</td>\n",
       "      <td>7</td>\n",
       "      <td>0</td>\n",
       "      <td>11</td>\n",
       "      <td>0</td>\n",
       "      <td>0</td>\n",
       "      <td>0</td>\n",
       "      <td>1</td>\n",
       "      <td>0</td>\n",
       "      <td>0</td>\n",
       "    </tr>\n",
       "    <tr>\n",
       "      <th>1</th>\n",
       "      <td>0</td>\n",
       "      <td>0</td>\n",
       "      <td>0</td>\n",
       "      <td>0</td>\n",
       "      <td>0</td>\n",
       "      <td>0</td>\n",
       "      <td>0</td>\n",
       "      <td>1</td>\n",
       "      <td>0</td>\n",
       "      <td>0</td>\n",
       "      <td>...</td>\n",
       "      <td>0</td>\n",
       "      <td>1</td>\n",
       "      <td>0</td>\n",
       "      <td>0</td>\n",
       "      <td>0</td>\n",
       "      <td>0</td>\n",
       "      <td>0</td>\n",
       "      <td>0</td>\n",
       "      <td>0</td>\n",
       "      <td>0</td>\n",
       "    </tr>\n",
       "    <tr>\n",
       "      <th>2</th>\n",
       "      <td>0</td>\n",
       "      <td>0</td>\n",
       "      <td>0</td>\n",
       "      <td>0</td>\n",
       "      <td>0</td>\n",
       "      <td>0</td>\n",
       "      <td>0</td>\n",
       "      <td>1</td>\n",
       "      <td>0</td>\n",
       "      <td>0</td>\n",
       "      <td>...</td>\n",
       "      <td>0</td>\n",
       "      <td>6</td>\n",
       "      <td>0</td>\n",
       "      <td>0</td>\n",
       "      <td>0</td>\n",
       "      <td>0</td>\n",
       "      <td>0</td>\n",
       "      <td>0</td>\n",
       "      <td>0</td>\n",
       "      <td>0</td>\n",
       "    </tr>\n",
       "    <tr>\n",
       "      <th>3</th>\n",
       "      <td>1</td>\n",
       "      <td>0</td>\n",
       "      <td>0</td>\n",
       "      <td>1</td>\n",
       "      <td>6</td>\n",
       "      <td>1</td>\n",
       "      <td>5</td>\n",
       "      <td>0</td>\n",
       "      <td>0</td>\n",
       "      <td>1</td>\n",
       "      <td>...</td>\n",
       "      <td>5</td>\n",
       "      <td>5</td>\n",
       "      <td>0</td>\n",
       "      <td>1</td>\n",
       "      <td>0</td>\n",
       "      <td>1</td>\n",
       "      <td>2</td>\n",
       "      <td>2</td>\n",
       "      <td>1</td>\n",
       "      <td>1</td>\n",
       "    </tr>\n",
       "    <tr>\n",
       "      <th>4</th>\n",
       "      <td>0</td>\n",
       "      <td>0</td>\n",
       "      <td>0</td>\n",
       "      <td>0</td>\n",
       "      <td>0</td>\n",
       "      <td>0</td>\n",
       "      <td>0</td>\n",
       "      <td>0</td>\n",
       "      <td>0</td>\n",
       "      <td>0</td>\n",
       "      <td>...</td>\n",
       "      <td>0</td>\n",
       "      <td>0</td>\n",
       "      <td>0</td>\n",
       "      <td>0</td>\n",
       "      <td>0</td>\n",
       "      <td>0</td>\n",
       "      <td>0</td>\n",
       "      <td>0</td>\n",
       "      <td>0</td>\n",
       "      <td>0</td>\n",
       "    </tr>\n",
       "  </tbody>\n",
       "</table>\n",
       "<p>5 rows × 293 columns</p>\n",
       "</div>"
      ],
      "text/plain": [
       "   feat_1  feat_2  feat_3  feat_4  feat_5  feat_6  feat_7  feat_8  feat_9  \\\n",
       "0       1       0       0       0       0       0       0       0       0   \n",
       "1       0       0       0       0       0       0       0       1       0   \n",
       "2       0       0       0       0       0       0       0       1       0   \n",
       "3       1       0       0       1       6       1       5       0       0   \n",
       "4       0       0       0       0       0       0       0       0       0   \n",
       "\n",
       "   feat_10         ...           feat_86 * feat_67  feat_86 max feat_67  \\\n",
       "0        0         ...                           0                    7   \n",
       "1        0         ...                           0                    1   \n",
       "2        0         ...                           0                    6   \n",
       "3        1         ...                           5                    5   \n",
       "4        0         ...                           0                    0   \n",
       "\n",
       "   feat_86 * feat_60  feat_86 max feat_60  feat_86 * feat_14  \\\n",
       "0                  0                   11                  0   \n",
       "1                  0                    0                  0   \n",
       "2                  0                    0                  0   \n",
       "3                  0                    1                  0   \n",
       "4                  0                    0                  0   \n",
       "\n",
       "   feat_86 max feat_14  feat_86 * feat_25  feat_86 max feat_25  \\\n",
       "0                    0                  0                    1   \n",
       "1                    0                  0                    0   \n",
       "2                    0                  0                    0   \n",
       "3                    1                  2                    2   \n",
       "4                    0                  0                    0   \n",
       "\n",
       "   feat_86 * feat_86  feat_86 max feat_86  \n",
       "0                  0                    0  \n",
       "1                  0                    0  \n",
       "2                  0                    0  \n",
       "3                  1                    1  \n",
       "4                  0                    0  \n",
       "\n",
       "[5 rows x 293 columns]"
      ]
     },
     "execution_count": 42,
     "metadata": {},
     "output_type": "execute_result"
    }
   ],
   "source": [
    "#With a normal RAM capacity, let's only take the top 10 xgboost features\n",
    "cols = X.columns\n",
    "X_new = X.copy()\n",
    "\n",
    "#Select the features\n",
    "feature_import = xgb.feature_importances_\n",
    "FI = pd.DataFrame()\n",
    "FI['Feature']= cols\n",
    "FI['Importance'] = feature_import\n",
    "FI.sort_values(by='Importance', ascending=False, inplace=True)\n",
    "features = FI.head(10).Feature.values\n",
    "\n",
    "#Creste the new columns\n",
    "for feat in features:\n",
    "    for feat2 in features:\n",
    "        X_new[feat + ' * ' + feat2] = (X_new[feat] * X_new[feat2])\n",
    "        X_new[feat + ' max ' + feat2] = pd.concat([X_new[feat],X_new[feat2]],axis = 1).max(axis = 1)\n",
    "        \n",
    "X_train_new, X_test_new,_,_ = train_test_split(X_new,y, test_size = 0.2, random_state=42)\n",
    "\n",
    "print(\"Before the feature construction: %i columns\" %len(feature_import))\n",
    "print(\"After it: %i columns\" %X_new.shape[1])\n",
    "X_new.head()"
   ]
  },
  {
   "cell_type": "code",
   "execution_count": 48,
   "metadata": {
    "collapsed": false
   },
   "outputs": [
    {
     "name": "stdout",
     "output_type": "stream",
     "text": [
      "Random Forest : 0.6548\n",
      "Xgboost : 0.6290\n",
      "Adaboost : 2.1223\n",
      "Multi linear perceptron : 0.6200\n"
     ]
    },
    {
     "name": "stderr",
     "output_type": "stream",
     "text": [
      "C:\\Program Files\\Python 3.4\\lib\\site-packages\\sklearn\\discriminant_analysis.py:387: UserWarning: Variables are collinear.\n",
      "  warnings.warn(\"Variables are collinear.\")\n"
     ]
    },
    {
     "name": "stdout",
     "output_type": "stream",
     "text": [
      "Linear discriminant analysis : 0.8861\n",
      "Gaussian naive bayes : 13.5099\n",
      "Decision tree : 9.9017\n",
      "Gradient boosting : 0.5867\n",
      "Execution time: 1195.352s\n"
     ]
    }
   ],
   "source": [
    "start = clock()\n",
    "#Random Forest\n",
    "RF2 = RandomForestClassifier(n_estimators=150, criterion ='gini',random_state=42, n_jobs=-1)\n",
    "RF2.fit(X_train_new,y_train)\n",
    "y_probas = RF2.predict_proba(X_test_new)\n",
    "print(\"Random Forest : %.4f\" %log_loss(y_test,y_probas))\n",
    "\n",
    "#Xgboost\n",
    "xgb2 = XGBClassifier()\n",
    "xgb2.fit(X_train_new,y_train)\n",
    "y_probas = xgb2.predict_proba(X_test_new)\n",
    "print(\"Xgboost : %.4f\" %log_loss(y_test,y_probas))\n",
    "\n",
    "#AdaBoost\n",
    "ada2 = AdaBoostClassifier(n_estimators=600, learning_rate=0.5, random_state = 42)\n",
    "ada2.fit(X_train_new,y_train)\n",
    "y_probas = ada2.predict_proba(X_test_new)\n",
    "print(\"Adaboost : %.4f\" %log_loss(y_test,y_probas))\n",
    "\n",
    "#MLPClassifier\n",
    "mlp2 = MLPClassifier(random_state = 42)\n",
    "mlp2.fit(X_train_new,y_train)\n",
    "y_probas = mlp2.predict_proba(X_test_new)\n",
    "print(\"Multi linear perceptron : %.4f\" %log_loss(y_test,y_probas))\n",
    "\n",
    "#LDA\n",
    "lda2 = LDA()\n",
    "lda2.fit(X_train_new,y_train)\n",
    "y_probas = lda2.predict_proba(X_test_new)\n",
    "print(\"Linear discriminant analysis : %.4f\" %log_loss(y_test,y_probas))\n",
    "\n",
    "#GaussianNB\n",
    "naive2 = GaussianNB()\n",
    "naive2.fit(X_train_new,y_train)\n",
    "y_probas = naive2.predict_proba(X_test_new)\n",
    "print(\"Gaussian naive bayes : %.4f\" %log_loss(y_test,y_probas))\n",
    "\n",
    "#Apparemment il produit des nan\n",
    "#SGDClassifier\n",
    "#sgd2 = SGDClassifier(loss = 'log')\n",
    "#sgd2.fit(X_train_new,y_train)\n",
    "#y_probas = sgd2.predict_proba(X_test_new)\n",
    "#print(\"SVM with SGD : %.4f\" %log_loss(y_test,y_probas))\n",
    "\n",
    "#DecisionTree\n",
    "tree2 = DecisionTreeClassifier()\n",
    "tree2.fit(X_train_new,y_train)\n",
    "y_probas = tree2.predict_proba(X_test_new)\n",
    "print(\"Decision tree : %.4f\" %log_loss(y_test,y_probas))\n",
    "\n",
    "#GradientBoostingTree\n",
    "boost2 = GradientBoostingClassifier(random_state = 42)\n",
    "boost2.fit(X_train_new,y_train)\n",
    "y_probas = boost2.predict_proba(X_test_new)\n",
    "print(\"Gradient boosting : %.4f\" %log_loss(y_test,y_probas))\n",
    "\n",
    "\n",
    "print(\"Execution time: %.3fs\" %(clock()-start))"
   ]
  },
  {
   "cell_type": "code",
   "execution_count": 49,
   "metadata": {
    "collapsed": false
   },
   "outputs": [
    {
     "data": {
      "text/plain": [
       "<matplotlib.text.Text at 0x1c851208>"
      ]
     },
     "execution_count": 49,
     "metadata": {},
     "output_type": "execute_result"
    },
    {
     "data": {
      "image/png": "[encoded data removed]",
      "text/plain": [
       "<matplotlib.figure.Figure at 0x1c633940>"
      ]
     },
     "metadata": {},
     "output_type": "display_data"
    }
   ],
   "source": [
    "#analyzing feature importance\n",
    "feature_import = xgb2.feature_importances_\n",
    "FI = pd.DataFrame()\n",
    "FI['Feature']= X_new.columns\n",
    "FI['Importance'] = feature_import\n",
    "FI.sort_values(by='Importance', ascending=False, inplace=True)\n",
    "ax = sns.barplot(FI['Feature'].iloc[:50], FI['Importance'].iloc[:50], color='r')\n",
    "plt.title('50 most important features according to RandomForestClassifier')\n",
    "plt.xlabel('Feature')\n",
    "for item in ax.get_xticklabels():\n",
    "    item.set_fontsize(7)\n",
    "    \n",
    "plt.xticks(rotation=90)\n",
    "plt.ylabel('Feature Importance')"
   ]
  },
  {
   "cell_type": "markdown",
   "metadata": {},
   "source": [
    "## Feature importance"
   ]
  },
  {
   "cell_type": "code",
   "execution_count": 50,
   "metadata": {
    "collapsed": false
   },
   "outputs": [
    {
     "data": {
      "text/plain": [
       "<matplotlib.text.Text at 0x5975dd30>"
      ]
     },
     "execution_count": 50,
     "metadata": {},
     "output_type": "execute_result"
    },
    {
     "data": {
      "image/png": "[encoded data removed]",
      "text/plain": [
       "<matplotlib.figure.Figure at 0x1c8d3a58>"
      ]
     },
     "metadata": {},
     "output_type": "display_data"
    }
   ],
   "source": [
    "#analyzing feature importance\n",
    "feature_import = xgb.feature_importances_\n",
    "FI = pd.DataFrame()\n",
    "FI['Feature']= np.arange(X.shape[1])\n",
    "FI['Importance'] = feature_import\n",
    "FI.sort_values(by='Importance', ascending=False, inplace=True)\n",
    "ax = sns.barplot(FI['Feature'].iloc[:50], FI['Importance'].iloc[:50], color='r', order = FI['Feature'].iloc[:50])\n",
    "plt.title('50 most important features according to RandomForestClassifier')\n",
    "plt.xlabel('Feature')\n",
    "for item in ax.get_xticklabels():\n",
    "    item.set_fontsize(7)\n",
    "    \n",
    "plt.xticks(rotation=90)\n",
    "plt.ylabel('Feature Importance')"
   ]
  },
  {
   "cell_type": "markdown",
   "metadata": {
    "collapsed": true
   },
   "source": [
    "## Stacking"
   ]
  },
  {
   "cell_type": "code",
   "execution_count": 124,
   "metadata": {
    "collapsed": true
   },
   "outputs": [],
   "source": [
    "class my_stacking():\n",
    "    \n",
    "    def __init__(self,models = None,nfolds = 5,top_clf = XGBClassifier(),labels = [0,1],random_state = 42,recalibration = 0):\n",
    "        \n",
    "        self.random_state = random_state\n",
    "        if models is None:\n",
    "            models = {'Decision tree': DecisionTreeClassifier(random_state = self.random_state),\n",
    "                     'Random forest': RandomForestClassifier(n_jobs = -1, random_state = self.random_state),\n",
    "                     'Xgboost': XGBClassifier(),\n",
    "                     'Gradient boosting': GradientBoostingClassifier(random_state = self.random_state),\n",
    "                     'Adaboost': AdaBoostClassifier(random_state = self.random_state),\n",
    "                     'Mlp': MLPClassifier(random_state = self.random_state),\n",
    "                     'Lda': LDA(),\n",
    "                     'Naive': GaussianNB(),\n",
    "                     'SVM': SGDClassifier(loss = 'log', random_state = self.random_state),\n",
    "                     'Reglog': LogisticRegression(random_state = self.random_state)}\n",
    "        is self.recalibration == 2:\n",
    "            #Trouver la bonne dict comprehension ici\n",
    "            self.models = models\n",
    "        else:\n",
    "            self.models = models\n",
    "        self.recalibration = recalibration\n",
    "        if self.recalibration > 0:\n",
    "            self.top_clf = CalibratedClassifierCV(base_estimator = top_clf,method = 'isotonic')\n",
    "        else:\n",
    "            self.top_clf = top_clf\n",
    "        self.model_names = list(self.models.keys())\n",
    "        self.kfold = KFold(n_splits = nfolds,random_state = self.random_state)\n",
    "        self.labels = labels\n",
    "            \n",
    "    def fit(self, Xtr, Ytr):\n",
    "        second_layer_tr = pd.DataFrame(index = Xtr.index)\n",
    "        \n",
    "        for train_index,test_index in self.kfold.split(Xtr):\n",
    "            Xtrtr, Ytrtr = Xtr.loc[Xtr.index[train_index]], Ytr.loc[Xtr.index[train_index]]\n",
    "            Xtrte, Ytrte = Xtr.loc[Xtr.index[test_index]], Ytr.loc[Xtr.index[test_index]]\n",
    "            \n",
    "            for model in self.model_names:\n",
    "                self.models[model].fit(Xtrtr,Ytrtr)\n",
    "                preds = self.models[model].predict_proba(Xtrte)\n",
    "                \n",
    "                for i in range(len(self.labels)):\n",
    "                    second_layer_tr.loc[Xtr.index[test_index], model+'_class_'+str(self.labels[i])] = preds[:,i]\n",
    "                \n",
    "        self.second_layer_tr = second_layer_tr\n",
    "        \n",
    "        self.top_clf.fit(second_layer_tr,Ytr)\n",
    "        for model in self.model_names:\n",
    "            self.models[model].fit(Xtr,Ytr)\n",
    "            \n",
    "    def predict(self, Xte):\n",
    "        second_layer_te = pd.DataFrame(index = Xte.index)\n",
    "        for model in self.model_names:\n",
    "            preds = self.models[model].predict_proba(Xte)\n",
    "            \n",
    "            for i in range(len(self.labels)):\n",
    "                second_layer_te[model+'_class_'+str(self.labels[i])] = preds[:,i]\n",
    "                \n",
    "        self.second_layer_te = second_layer_te\n",
    "        return self.top_clf.predict(second_layer_te)\n",
    "    \n",
    "    def predict_proba(self, Xte):\n",
    "        second_layer_te = pd.DataFrame(index = Xte.index)\n",
    "        for model in self.model_names:\n",
    "            preds = self.models[model].predict_proba(Xte)\n",
    "            \n",
    "            for i in range(len(self.labels)):\n",
    "                second_layer_te[model+'_class_'+str(self.labels[i])] = preds[:,i]\n",
    "                \n",
    "        self.second_layer_te = second_layer_te\n",
    "        return self.top_clf.predict_proba(second_layer_te)"
   ]
  },
  {
   "cell_type": "code",
   "execution_count": null,
   "metadata": {
    "collapsed": false
   },
   "outputs": [
    {
     "name": "stderr",
     "output_type": "stream",
     "text": [
      "C:\\Program Files\\Python 3.4\\lib\\site-packages\\sklearn\\linear_model\\base.py:352: RuntimeWarning: overflow encountered in exp\n",
      "  np.exp(prob, prob)\n",
      "C:\\Program Files\\Python 3.4\\lib\\site-packages\\sklearn\\linear_model\\base.py:352: RuntimeWarning: overflow encountered in exp\n",
      "  np.exp(prob, prob)\n"
     ]
    }
   ],
   "source": [
    "my_stack = my_stacking(labels = range(1,10))\n",
    "my_stack.fit(X_train,y_train)\n",
    "y_preds = my_stack.predict_proba(X_test)\n",
    "print(\"Log_loss of the stacking classifier : %.4f\" %log_loss(y_test,y_preds, labels = my_stack.labels))"
   ]
  },
  {
   "cell_type": "code",
   "execution_count": null,
   "metadata": {
    "collapsed": false
   },
   "outputs": [],
   "source": [
    "for target in range(9):\n",
    "    temp = my_stack.second_layer_tr[[model+'_class_'+str(target+1) for model in my_stack.model_names]]\n",
    "    plt.figure()\n",
    "    sns.heatmap(temp.corr(),annot=True)\n",
    "    plt.title('Correlation matrix for class '+str(target+1))\n",
    "    plt.show()"
   ]
  },
  {
   "cell_type": "code",
   "execution_count": 58,
   "metadata": {
    "collapsed": false
   },
   "outputs": [
    {
     "name": "stdout",
     "output_type": "stream",
     "text": [
      "Mean log_loss : 2.6850\n"
     ]
    },
    {
     "name": "stderr",
     "output_type": "stream",
     "text": [
      "C:\\Program Files\\Python 3.4\\lib\\site-packages\\sklearn\\linear_model\\base.py:352: RuntimeWarning: overflow encountered in exp\n",
      "  np.exp(prob, prob)\n"
     ]
    }
   ],
   "source": [
    "stacking_model = GradientBoostingClassifier(random_state = 42, n_estimators = 300, learning_rate = 0.2)\n",
    "stacking_model.fit(second_layer_tr,y_train)\n",
    "\n",
    "second_layer_te = pd.DataFrame()\n",
    "for model in models:\n",
    "    preds = model_dict[model].predict_proba(X_test)\n",
    "    for i in range(9):\n",
    "        second_layer_te[model+'_class_'+str(i+1)] = preds[:,i]\n",
    "\n",
    "y_probas = stacking_model.predict_proba(second_layer_te)\n",
    "print(\"Mean log_loss : %.4f\" %log_loss(y_test,y_probas))"
   ]
  },
  {
   "cell_type": "markdown",
   "metadata": {},
   "source": [
    "#### 2/ With one calibration (top layer)"
   ]
  },
  {
   "cell_type": "code",
   "execution_count": null,
   "metadata": {
    "collapsed": true
   },
   "outputs": [],
   "source": [
    "model_dict = {'Decision_tree':tree,\n",
    "              'random_forest':RF,\n",
    "              'xgboost':xgb,\n",
    "              'gradient_boosting':boost,\n",
    "              'adaboost':ada,\n",
    "              'multi_linear_perceptron':mlp,\n",
    "              'linear_discriminant_analysis':lda,\n",
    "             'naive_bayes':naive,\n",
    "             'sgd':sgd}\n",
    "models = ['Decision_tree','random_forest','xgboost','gradient_boosting','adaboost','multi_linear_perceptron',\n",
    "          'linear_discriminant_analysis','naive_bayes','sgd']\n",
    "\n",
    "second_layer_tr2 = pd.DataFrame()\n",
    "for model in models:\n",
    "    preds = model_dict[model].predict_proba(X_train)\n",
    "    for i in range(9):\n",
    "        second_layer_tr2[model+'_class_'+str(i+1)] = preds[:,i]"
   ]
  },
  {
   "cell_type": "code",
   "execution_count": null,
   "metadata": {
    "collapsed": true
   },
   "outputs": [],
   "source": [
    "stack_cal_boost = CalibratedClassifierCV(base_estimator = GradientBoostingClassifier(random_state = 42),method = 'isotonic')\n",
    "stack_cal_boost.fit(second_layer_tr,y_train)\n",
    "\n",
    "second_layer_te2 = pd.DataFrame()\n",
    "for model in models:\n",
    "    preds = model_dict[model].predict_proba(X_test)\n",
    "    for i in range(9):\n",
    "        second_layer_te2[model+'_class_'+str(i+1)] = preds[:,i]\n",
    "\n",
    "y_probas = stacking_model.predict_proba(second_layer_te2)\n",
    "print(\"Mean log_loss : %.4f\" %log_loss(y_test,y_probas))"
   ]
  },
  {
   "cell_type": "markdown",
   "metadata": {},
   "source": [
    "#### 3/ With two calibrations"
   ]
  },
  {
   "cell_type": "code",
   "execution_count": null,
   "metadata": {
    "collapsed": true
   },
   "outputs": [],
   "source": [
    "model_dict = {'Decision_tree':cal_tree,\n",
    "              'random_forest':cal_RF,\n",
    "              'xgboost':cal_xgb,\n",
    "              'gradient_boosting':cal_boost,\n",
    "              'adaboost':cal_ada,\n",
    "              'multi_linear_perceptron':cal_mlp,\n",
    "              'linear_discriminant_analysis':cal_lda,\n",
    "             'naive_bayes':cal_naive,\n",
    "             'sgd':cal_sgd}\n",
    "models = ['Decision_tree','random_forest','xgboost','gradient_boosting','adaboost','multi_linear_perceptron',\n",
    "          'linear_discriminant_analysis','naive_bayes','sgd']\n",
    "\n",
    "second_layer_tr3 = pd.DataFrame()\n",
    "for model in models:\n",
    "    preds = model_dict[model].predict_proba(X_train)\n",
    "    for i in range(9):\n",
    "        second_layer_tr3[model+'_class_'+str(i+1)] = preds[:,i]"
   ]
  },
  {
   "cell_type": "code",
   "execution_count": null,
   "metadata": {
    "collapsed": true
   },
   "outputs": [],
   "source": [
    "for target in range(9):\n",
    "    temp = second_layer_tr3[[model+'_class_'+str(target+1) for model in models]]\n",
    "    plt.figure()\n",
    "    sns.heatmap(temp.corr(),annot=True)\n",
    "    plt.title('Correlation matrix for class '+str(target+1))\n",
    "    plt.show()"
   ]
  },
  {
   "cell_type": "code",
   "execution_count": null,
   "metadata": {
    "collapsed": true
   },
   "outputs": [],
   "source": [
    "stack_cal_boost = CalibratedClassifierCV(base_estimator = GradientBoostingClassifier(random_state = 42),method = 'isotonic')\n",
    "stack_cal_boost.fit(second_layer_tr,y_train)\n",
    "\n",
    "second_layer_te3 = pd.DataFrame()\n",
    "for model in models:\n",
    "    preds = model_dict[model].predict_proba(X_test)\n",
    "    for i in range(9):\n",
    "        second_layer_te3[model+'_class_'+str(i+1)] = preds[:,i]\n",
    "\n",
    "y_probas = stacking_model.predict_proba(second_layer_te3)\n",
    "print(\"Mean log_loss : %.4f\" %log_loss(y_test,y_probas))"
   ]
  },
  {
   "cell_type": "code",
   "execution_count": 57,
   "metadata": {
    "collapsed": true
   },
   "outputs": [],
   "source": [
    "import winsound\n",
    "frequency = 2500  # Set Frequency To 2500 Hertz\n",
    "duration = 1000  # Set Duration To 1000 ms == 1 second\n",
    "winsound.Beep(frequency, duration)"
   ]
  },
  {
   "cell_type": "code",
   "execution_count": null,
   "metadata": {
    "collapsed": true
   },
   "outputs": [],
   "source": []
  }
 ],
 "metadata": {
  "kernelspec": {
   "display_name": "Python 3",
   "language": "python",
   "name": "python3"
  },
  "language_info": {
   "codemirror_mode": {
    "name": "ipython",
    "version": 3
   },
   "file_extension": ".py",
   "mimetype": "text/x-python",
   "name": "python",
   "nbconvert_exporter": "python",
   "pygments_lexer": "ipython3",
   "version": "3.4.5"
  }
 },
 "nbformat": 4,
 "nbformat_minor": 1
}
